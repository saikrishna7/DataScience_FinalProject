{
 "cells": [
  {
   "cell_type": "code",
   "execution_count": 10,
   "metadata": {
    "collapsed": false
   },
   "outputs": [
    {
     "name": "stdout",
     "output_type": "stream",
     "text": [
      "Database version : 5.5.43-MariaDB \n"
     ]
    }
   ],
   "source": [
    "#!/usr/bin/python\n",
    "# -*- coding: utf-8 -*-\n",
    "import MySQLdb as mdb\n",
    "import sys\n",
    "try:\n",
    "#     con = mdb.connect('128.206.116.195', 'tg4_ro', '?3stEt7!3hUbRa-R', 'tw4_db');\n",
    "    con = mdb.connect('opendata.missouri.edu', 'datascience', 'datascience', 'datascience');\n",
    "    cur = con.cursor()\n",
    "    cur.execute(\"SELECT VERSION()\")\n",
    "    ver = cur.fetchone()\n",
    "    \n",
    "    print (\"Database version : %s \" % ver)\n",
    "    \n",
    "except mdb.Error as e:\n",
    "  \n",
    "    print (\"Error %d: %s\" % (e.args[0],e.args[1]))\n",
    "    sys.exit(1)\n",
    "    \n",
    "finally:    \n",
    "        \n",
    "    if con:    \n",
    "        con.close()"
   ]
  },
  {
   "cell_type": "code",
   "execution_count": null,
   "metadata": {
    "collapsed": false
   },
   "outputs": [],
   "source": [
    "import MySQLdb as mdb\n",
    "import sys\n",
    "\n",
    "try:\n",
    "    con = mdb.connect('128.206.116.195', 'tg4_ro', '?3stEt7!3hUbRa-R', 'tw4_db');\n",
    "#     con = mdb.connect('opendata.missouri.edu', 'datascience', 'datascience', 'datascience');\n",
    "    cur = con.cursor()\n",
    "#     cur.execute(\"SELECT created_at, from_user, from_user_followers, text from tweet where job_id=1196 limit 10\")\n",
    "    cur.execute(\"Select year(created_at) as theYear,month(created_at) as theMonth, week(created_at) as theWeek, \\\n",
    "    day(created_at) as theDay, count(*) as counter from tweet where job_id=1196 \\\n",
    "    group by theMonth, theWeek, theDay limit 10\")\n",
    " \n",
    "    ver = cur.fetchall()\n",
    "    for row in ver:\n",
    "        #created_at = row[0]\n",
    "        #print \"%s, %s\" % (row[\"created_at\"], row[\"from_user\"], row[\"from_user_followers\"], row[\"text\"])\n",
    "        #print \"Number of Rows Returned:, %d\" % ver.rowcount\n",
    "        #print (row.theMonth, row.theWeek, row.theDay, row.counter)\n",
    "        print(row.theYear,row.theMonth,row.theWeek,row.theDay)\n",
    "except mdb.Error as e:\n",
    "    print (\"Error %d: %s\" % (e.args[0],e.args[1]))\n",
    "    sys.exit(1)\n",
    "\n",
    "finally:\n",
    "    if con:\n",
    "        con.close()"
   ]
  },
  {
   "cell_type": "code",
   "execution_count": 2,
   "metadata": {
    "collapsed": false
   },
   "outputs": [
    {
     "name": "stdout",
     "output_type": "stream",
     "text": [
      "1\n"
     ]
    }
   ],
   "source": [
    "# -*- coding: utf-8 -*-\n",
    "import MySQLdb as mdb\n",
    "import sys\n",
    "import pandas as pd\n",
    "import csv\n",
    "        \n",
    "def aa():\n",
    "    try:\n",
    "\n",
    "        con = mdb.connect('128.206.116.195', 'tg4_ro', '?3stEt7!3hUbRa-R', 'tw4_db');\n",
    "\n",
    "        cur = con.cursor()\n",
    "\n",
    "        cur.execute(\"Select created_at,text,from_user,from_user_id_str,from_user_name,from_user_followers,from_user_following,from_user_favorites,from_user_tweets,from_user_timezone,to_user,to_user_id_str,to_user_name,source from tweetchicago\")\n",
    "\n",
    "        ver = cur.fetchall()\n",
    "        list_=[]\n",
    "        for row in ver:\n",
    "            list_.append(row)\n",
    "        df=[]\n",
    "        df = pd.DataFrame(list_)   \n",
    "        df.to_csv('chicago_new.csv')    \n",
    "        return 1 \n",
    "#         pd.DataFrame(list_,columns = ['from_user','text'])\n",
    "        \n",
    "    except mdb.Error as e:\n",
    "        print (\"Error %d: %s\" % (e.args[0],e.args[1]))\n",
    "        sys.exit(1)\n",
    "\n",
    "    finally:\n",
    "        if con:\n",
    "            con.close()\n",
    "            \n",
    "df = aa()\n",
    "print(df)"
   ]
  },
  {
   "cell_type": "code",
   "execution_count": null,
   "metadata": {
    "collapsed": true
   },
   "outputs": [],
   "source": []
  }
 ],
 "metadata": {
  "kernelspec": {
   "display_name": "Python 3",
   "language": "python",
   "name": "python3"
  },
  "language_info": {
   "codemirror_mode": {
    "name": "ipython",
    "version": 3
   },
   "file_extension": ".py",
   "mimetype": "text/x-python",
   "name": "python",
   "nbconvert_exporter": "python",
   "pygments_lexer": "ipython3",
   "version": "3.4.3"
  }
 },
 "nbformat": 4,
 "nbformat_minor": 0
}
